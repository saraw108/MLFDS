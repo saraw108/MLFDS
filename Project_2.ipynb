{
 "cells": [
  {
   "cell_type": "markdown",
   "id": "f1941c01",
   "metadata": {},
   "source": [
    "# Project 2\n",
    "\n",
    "## Molecular Data\n",
    "\n",
    "The QM7 dataset consists of 7165 organic molecules, each of which is composed of up to 23 atoms.\n",
    "\n",
    "\n",
    "Analysis will include:\n",
    "1. Visualization\n",
    "2. Representation\n",
    "3. Ridge Regression\n",
    "4.\n",
    "5."
   ]
  },
  {
   "cell_type": "code",
   "execution_count": 1,
   "id": "3bc29a24",
   "metadata": {},
   "outputs": [],
   "source": [
    "%matplotlib inline\n",
    "import scipy\n",
    "import numpy as np\n",
    "import torch\n",
    "import torchvision,torchvision.transforms\n",
    "import sqlite3\n",
    "import matplotlib\n",
    "from matplotlib import pyplot as plt\n",
    "\n",
    "data = scipy.io.loadmat('qm7.mat')"
   ]
  },
  {
   "cell_type": "markdown",
   "id": "499d95b1",
   "metadata": {},
   "source": [
    " The 3d coordinates of each atom in each molecule are available in the variable R. It is an array of size 7165×23×3\n",
    "containing for each molecule and atom a triplet representing the 3d coordinates."
   ]
  },
  {
   "cell_type": "code",
   "execution_count": 7,
   "id": "85309078",
   "metadata": {},
   "outputs": [
    {
     "data": {
      "text/plain": [
       "array([ 1.886438  , -0.00464873, -0.00823921], dtype=float32)"
      ]
     },
     "execution_count": 7,
     "metadata": {},
     "output_type": "execute_result"
    }
   ],
   "source": [
    "data['R'][0,0,:] # eg coordinates of first atom in first molecule"
   ]
  },
  {
   "cell_type": "markdown",
   "id": "1ebb093f",
   "metadata": {},
   "source": [
    "The variable Z is an array\n",
    "of size 7165×23 which gives for each molecule and atom of the molecule the corresponding atomic number.\n",
    "An atomic number of 1 corresponds to a hydrogen atom (H), the number 6 corresponds to carbon (C), the\n",
    "numbers 7 and 8 to nitrogen (N) and oxygen (O) respectively, and finally, the number 16 corresponds to\n",
    "sulfur (S). If the number is zero, then it indicates that there is no atom at this index, and the corresponding\n",
    "3d coordinate should therefore be ignored."
   ]
  },
  {
   "cell_type": "code",
   "execution_count": 8,
   "id": "e441f7f9",
   "metadata": {},
   "outputs": [
    {
     "data": {
      "text/plain": [
       "6.0"
      ]
     },
     "execution_count": 8,
     "metadata": {},
     "output_type": "execute_result"
    }
   ],
   "source": [
    "data['Z'][0,0] # first atom of first molecule is carbon"
   ]
  },
  {
   "cell_type": "markdown",
   "id": "0b078c37",
   "metadata": {},
   "source": [
    " This allows for representing in the same array molecules of\n",
    "different sizes. In addition to these geometrical features of the molecule, the dataset also provides for\n",
    "each molecule its atomization energy (computed via quantum-chemical simulation). These atomization\n",
    "energy values are stored in the variable T, an array of size 7165."
   ]
  },
  {
   "cell_type": "code",
   "execution_count": 12,
   "id": "66c3f464",
   "metadata": {},
   "outputs": [
    {
     "data": {
      "text/plain": [
       "array([ -417.96,  -712.42,  -564.21, ..., -1662.1 , -1782.01, -1919.  ],\n",
       "      dtype=float32)"
      ]
     },
     "execution_count": 12,
     "metadata": {},
     "output_type": "execute_result"
    }
   ],
   "source": [
    "data['T'][0] # atomization energy values of first molecule"
   ]
  },
  {
   "cell_type": "code",
   "execution_count": null,
   "id": "5080afe3",
   "metadata": {},
   "outputs": [],
   "source": []
  }
 ],
 "metadata": {
  "kernelspec": {
   "display_name": "Python 3 (ipykernel)",
   "language": "python",
   "name": "python3"
  },
  "language_info": {
   "codemirror_mode": {
    "name": "ipython",
    "version": 3
   },
   "file_extension": ".py",
   "mimetype": "text/x-python",
   "name": "python",
   "nbconvert_exporter": "python",
   "pygments_lexer": "ipython3",
   "version": "3.10.6"
  }
 },
 "nbformat": 4,
 "nbformat_minor": 5
}
