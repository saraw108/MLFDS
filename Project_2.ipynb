{
 "cells": [
  {
   "attachments": {},
   "cell_type": "markdown",
   "id": "f1941c01",
   "metadata": {},
   "source": [
    "# Project 2\n",
    "\n",
    "## Molecular Data\n",
    "\n",
    "The QM7 dataset consists of 7165 organic molecules, each of which is composed of up to 23 atoms.\n",
    "\n",
    "\n",
    "Analysis will include:\n",
    "1. Visualization\n",
    "2. Representation\n",
    "3. Ridge Regression\n",
    "4.\n",
    "5."
   ]
  },
  {
   "cell_type": "code",
   "execution_count": 1,
   "id": "3bc29a24",
   "metadata": {},
   "outputs": [],
   "source": [
    "%matplotlib inline\n",
    "import scipy\n",
    "from scipy import io # this import fixed the issue \n",
    "import numpy as np\n",
    "import torch\n",
    "import torchvision,torchvision.transforms\n",
    "import sqlite3\n",
    "import matplotlib\n",
    "from matplotlib import pyplot as plt\n",
    "\n",
    "data = scipy.io.loadmat('qm7.mat')"
   ]
  },
  {
   "attachments": {},
   "cell_type": "markdown",
   "id": "499d95b1",
   "metadata": {},
   "source": [
    " The 3d coordinates of each atom in each molecule are available in the variable R. It is an array of size 7165×23×3\n",
    "containing for each molecule and atom a triplet representing the 3d coordinates."
   ]
  },
  {
   "cell_type": "code",
   "execution_count": 2,
   "id": "85309078",
   "metadata": {},
   "outputs": [
    {
     "data": {
      "text/plain": [
       "array([ 1.886438  , -0.00464873, -0.00823921], dtype=float32)"
      ]
     },
     "execution_count": 2,
     "metadata": {},
     "output_type": "execute_result"
    }
   ],
   "source": [
    "data['R'][0,0,:] # eg coordinates of first atom in first molecule"
   ]
  },
  {
   "attachments": {},
   "cell_type": "markdown",
   "id": "1ebb093f",
   "metadata": {},
   "source": [
    "The variable Z is an array\n",
    "of size 7165×23 which gives for each molecule and atom of the molecule the corresponding atomic number.\n",
    "An atomic number of 1 corresponds to a hydrogen atom (H), the number 6 corresponds to carbon (C), the\n",
    "numbers 7 and 8 to nitrogen (N) and oxygen (O) respectively, and finally, the number 16 corresponds to\n",
    "sulfur (S). If the number is zero, then it indicates that there is no atom at this index, and the corresponding\n",
    "3d coordinate should therefore be ignored."
   ]
  },
  {
   "cell_type": "code",
   "execution_count": 3,
   "id": "e441f7f9",
   "metadata": {},
   "outputs": [
    {
     "data": {
      "text/plain": [
       "6.0"
      ]
     },
     "execution_count": 3,
     "metadata": {},
     "output_type": "execute_result"
    }
   ],
   "source": [
    "data['Z'][0,0] # first atom of first molecule is carbon"
   ]
  },
  {
   "attachments": {},
   "cell_type": "markdown",
   "id": "0b078c37",
   "metadata": {},
   "source": [
    " This allows for representing in the same array molecules of\n",
    "different sizes. In addition to these geometrical features of the molecule, the dataset also provides for\n",
    "each molecule its atomization energy (computed via quantum-chemical simulation). These atomization\n",
    "energy values are stored in the variable T, an array of size 7165."
   ]
  },
  {
   "cell_type": "code",
   "execution_count": 4,
   "id": "66c3f464",
   "metadata": {},
   "outputs": [
    {
     "data": {
      "text/plain": [
       "array([ -417.96,  -712.42,  -564.21, ..., -1662.1 , -1782.01, -1919.  ],\n",
       "      dtype=float32)"
      ]
     },
     "execution_count": 4,
     "metadata": {},
     "output_type": "execute_result"
    }
   ],
   "source": [
    "data['T'][0] # atomization energy values of first molecule"
   ]
  },
  {
   "attachments": {},
   "cell_type": "markdown",
   "id": "202ee54b",
   "metadata": {},
   "source": [
    "We want to be able to visualize the molecules. For this we are utilizing 3D plotting in Matplotlib."
   ]
  },
  {
   "cell_type": "code",
   "execution_count": 32,
   "id": "5080afe3",
   "metadata": {},
   "outputs": [],
   "source": [
    "cov_radii = { # covalent radii in pm\n",
    "    1.:31.,\n",
    "    6.:77.2,\n",
    "    7.:71.,\n",
    "    8.:66.,\n",
    "    16.:105.,\n",
    "}\n",
    "kindness = 5 # this is cheating though :(\n",
    "\n",
    "# to atomic units (Bohr radius)\n",
    "for (k, v) in cov_radii.items():\n",
    "    cov_radii[k] = (v + kindness) / 52.9\n",
    "\n",
    "# helper function\n",
    "def bond(i, j, coords, ans) -> bool:\n",
    "    \"\"\"\n",
    "    Returns True if and only if the atoms should bond given their atomic numbers and coordinates.\n",
    "    \"\"\"\n",
    "    # if the distance between two atoms is less than the sum\n",
    "    # of their covalent radii they are considered bonded\n",
    "    r = cov_radii[ans[i]] + cov_radii[ans[j]]\n",
    "    dist = coords[i] - coords[j]\n",
    "    return  np.dot(dist, dist) < r*r #dist^2 < r^2\n",
    "\n",
    "# visualization\n",
    "def visualize(fig, molecule_index):\n",
    "    \"\"\"\n",
    "    Creates an image of the molecule at a give index on the given Figure object.\n",
    "    \"\"\"\n",
    "\n",
    "    ax = fig.add_subplot(projection='3d')\n",
    "\n",
    "    atoms_present = data['Z'][molecule_index] != 0\n",
    "    coords = data['R'][molecule_index][atoms_present] # atom coordinates\n",
    "    ans = data['Z'][molecule_index][atoms_present] # atomic nrs\n",
    "\n",
    "    # draw atoms\n",
    "    for (name, nr, m) in [(\"H\", 1, 'o'), (\"C\", 6, 's'), (\"N\", 7, 'd'), (\"O\", 8, '*'), (\"S\", 16, \"^\")]:\n",
    "        elem = coords[ans==nr]\n",
    "        ax.scatter(elem[:,0], elem[:,1], elem[:,2], s=50, marker=m, label=name)\n",
    "\n",
    "    # draw lines between atoms that are close enough\n",
    "    for i in range(len(coords)): # compare all combinations of atoms\n",
    "        for j in range(i+1, len(coords)):\n",
    "            if(bond(i, j, coords, ans)):\n",
    "                # connect with a line\n",
    "                ax.plot([coords[i][0], coords[j][0]],\n",
    "                        [coords[i][1], coords[j][1]],\n",
    "                        zs=[coords[i][2], coords[j][2]],\n",
    "                        color='y'\n",
    "                        )\n",
    "\n",
    "    ax.set_xlabel('x axis')\n",
    "    ax.set_ylabel('y axis')\n",
    "    ax.set_zlabel('z axis')\n",
    "    ax.legend()"
   ]
  },
  {
   "cell_type": "code",
   "execution_count": 33,
   "id": "4b224c11",
   "metadata": {},
   "outputs": [
    {
     "data": {
      "image/png": "[encoded data removed]",
      "text/plain": [
       "<Figure size 432x288 with 1 Axes>"
      ]
     },
     "metadata": {
      "needs_background": "light"
     },
     "output_type": "display_data"
    }
   ],
   "source": [
    "# Example usage of visualize.\n",
    "fig = plt.figure()\n",
    "visualize(fig, 11)\n",
    "plt.show()"
   ]
  }
 ],
 "metadata": {
  "kernelspec": {
   "display_name": "Python 3 (ipykernel)",
   "language": "python",
   "name": "python3"
  },
  "language_info": {
   "codemirror_mode": {
    "name": "ipython",
    "version": 3
   },
   "file_extension": ".py",
   "mimetype": "text/x-python",
   "name": "python",
   "nbconvert_exporter": "python",
   "pygments_lexer": "ipython3",
   "version": "3.10.11"
  }
 },
 "nbformat": 4,
 "nbformat_minor": 5
}
