{
 "cells": [
  {
   "cell_type": "markdown",
   "id": "ac9a11b6",
   "metadata": {},
   "source": [
    "# Project 1\n",
    "## Wolesale\n",
    "### 1. load data\n",
    "we load the data from a csv and then do something"
   ]
  },
  {
   "cell_type": "code",
   "execution_count": 1,
   "id": "0ec2ba00",
   "metadata": {},
   "outputs": [
    {
     "data": {
      "text/plain": [
       "array([[2.0000e+00, 3.0000e+00, 1.2669e+04, ..., 2.1400e+02, 2.6740e+03,\n",
       "        1.3380e+03],\n",
       "       [2.0000e+00, 3.0000e+00, 7.0570e+03, ..., 1.7620e+03, 3.2930e+03,\n",
       "        1.7760e+03],\n",
       "       [2.0000e+00, 3.0000e+00, 6.3530e+03, ..., 2.4050e+03, 3.5160e+03,\n",
       "        7.8440e+03],\n",
       "       ...,\n",
       "       [2.0000e+00, 3.0000e+00, 1.4531e+04, ..., 4.3700e+02, 1.4841e+04,\n",
       "        1.8670e+03],\n",
       "       [1.0000e+00, 3.0000e+00, 1.0290e+04, ..., 1.0380e+03, 1.6800e+02,\n",
       "        2.1250e+03],\n",
       "       [1.0000e+00, 3.0000e+00, 2.7870e+03, ..., 6.5000e+01, 4.7700e+02,\n",
       "        5.2000e+01]])"
      ]
     },
     "execution_count": 1,
     "metadata": {},
     "output_type": "execute_result"
    }
   ],
   "source": [
    "%matplotlib inline\n",
    "import numpy as np\n",
    "import scipy,scipy.spatial\n",
    "import torch\n",
    "import torchvision,torchvision.transforms\n",
    "import sqlite3\n",
    "import matplotlib\n",
    "from matplotlib import pyplot as plt\n",
    "\n",
    "np.genfromtxt(\"Wholesale customers data.csv\", skip_header=1, delimiter=\",\")\n"
   ]
  },
  {
   "cell_type": "code",
   "execution_count": null,
   "id": "9884c5b9",
   "metadata": {},
   "outputs": [],
   "source": []
  }
 ],
 "metadata": {
  "kernelspec": {
   "display_name": "Python 3 (ipykernel)",
   "language": "python",
   "name": "python3"
  },
  "language_info": {
   "codemirror_mode": {
    "name": "ipython",
    "version": 3
   },
   "file_extension": ".py",
   "mimetype": "text/x-python",
   "name": "python",
   "nbconvert_exporter": "python",
   "pygments_lexer": "ipython3",
   "version": "3.10.6"
  }
 },
 "nbformat": 4,
 "nbformat_minor": 5
}
