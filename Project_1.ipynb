{
 "cells": [
  {
   "attachments": {},
   "cell_type": "markdown",
   "id": "ac9a11b6",
   "metadata": {},
   "source": [
    "# Project 1\n",
    "## Wolesale\n",
    "### 1. load data\n",
    "we load the data from a csv and then do something"
   ]
  },
  {
   "cell_type": "code",
   "execution_count": 1,
   "id": "0ec2ba00",
   "metadata": {},
   "outputs": [],
   "source": [
    "%matplotlib inline\n",
    "import numpy as np\n",
    "import scipy,scipy.spatial\n",
    "import torch\n",
    "import torchvision,torchvision.transforms\n",
    "import sqlite3\n",
    "import matplotlib\n",
    "from matplotlib import pyplot as plt\n",
    "\n",
    "raw_data = np.genfromtxt(\"Wholesale customers data.csv\", skip_header=1, delimiter=\",\")"
   ]
  },
  {
   "cell_type": "code",
   "execution_count": 2,
   "id": "f82bf6bb",
   "metadata": {},
   "outputs": [],
   "source": [
    "# we are not interested in the region \n",
    "data = np.delete(raw_data, (1), axis=1) \n",
    "\n",
    "# seperating by channel\n",
    "is_horeca = (data[:, 0]-1) == 0\n",
    "data_horeca = data[is_horeca, 1:]\n",
    "data_retail = data[~is_horeca, 1:]\n",
    "\n",
    "# total spending in the catagories\n",
    "totals = np.sum(data[:, 1:], axis=1)"
   ]
  },
  {
   "cell_type": "code",
   "execution_count": 3,
   "id": "9884c5b9",
   "metadata": {},
   "outputs": [
    {
     "data": {
      "image/png": "[encoded data removed]",
      "text/plain": [
       "<Figure size 432x288 with 1 Axes>"
      ]
     },
     "metadata": {
      "needs_background": "light"
     },
     "output_type": "display_data"
    }
   ],
   "source": [
    "# we want to visualize the data to get a general overview\n",
    "def graph_histogram(data, bin_count:int, name:str):\n",
    "\n",
    "    _, ax = plt.subplots()\n",
    "    _, bin_edges = np.histogram(data, bins=bin_count)\n",
    "    log_bin_edges = np.logspace(np.log10(bin_edges[0]), np.log10(bin_edges[-1]), len(bin_edges))\n",
    "    plt.hist(data, bins=log_bin_edges)\n",
    "\n",
    "    plt.xscale('log')\n",
    "    ax.set_title(f'Distribution of {name} Data')\n",
    "    ax.set_xlabel('annual spending in m.u.')\n",
    "    ax.set_ylabel('customers')\n",
    "\n",
    "horeca_totals = np.sum(data_horeca, axis=1)\n",
    "graph_histogram(horeca_totals, 10, \"HoReCa\")\n",
    "plt.show()"
   ]
  },
  {
   "cell_type": "code",
   "execution_count": 4,
   "id": "f9c53d90",
   "metadata": {},
   "outputs": [
    {
     "data": {
      "image/png": "[encoded data removed]",
      "text/plain": [
       "<Figure size 432x288 with 1 Axes>"
      ]
     },
     "metadata": {
      "needs_background": "light"
     },
     "output_type": "display_data"
    }
   ],
   "source": [
    "# we want to visualize the data to get a general overview\n",
    "\n",
    "retail_totals = np.sum(data_retail, axis=1)\n",
    "graph_histogram(retail_totals, 10, \"Retail\")\n",
    "plt.show()"
   ]
  },
  {
   "cell_type": "code",
   "execution_count": null,
   "id": "ff03e322",
   "metadata": {},
   "outputs": [],
   "source": []
  }
 ],
 "metadata": {
  "kernelspec": {
   "display_name": "Python 3 (ipykernel)",
   "language": "python",
   "name": "python3"
  },
  "language_info": {
   "codemirror_mode": {
    "name": "ipython",
    "version": 3
   },
   "file_extension": ".py",
   "mimetype": "text/x-python",
   "name": "python",
   "nbconvert_exporter": "python",
   "pygments_lexer": "ipython3",
   "version": "3.10.11"
  }
 },
 "nbformat": 4,
 "nbformat_minor": 5
}
